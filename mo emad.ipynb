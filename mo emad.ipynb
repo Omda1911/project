{
 "cells": [
  {
   "cell_type": "code",
   "execution_count": 3,
   "id": "a8efaafa",
   "metadata": {},
   "outputs": [
    {
     "name": "stdout",
     "output_type": "stream",
     "text": [
      "Result: 36\n"
     ]
    }
   ],
   "source": [
    "my_list = [2,3,6]\n",
    "result = 1\n",
    "for item in my_list:\n",
    "    result *= item\n",
    "print(\"Result:\", result)    "
   ]
  },
  {
   "cell_type": "code",
   "execution_count": 5,
   "id": "d133ebf8",
   "metadata": {},
   "outputs": [
    {
     "name": "stdout",
     "output_type": "stream",
     "text": [
      "[(2, 1), (1, 2), (2, 3), (4, 4), (2, 5)]\n"
     ]
    }
   ],
   "source": [
    "my_list =[(2,5),(1,2),(4,4),(2,3),(2,1)]\n",
    " \n",
    "# Sort the list by the last element in each tuple\n",
    "sorted_list = sorted(my_list, key=lambda x: x[-1])\n",
    "\n",
    "print(sorted_list)"
   ]
  },
  {
   "cell_type": "code",
   "execution_count": 11,
   "id": "5eaa6582",
   "metadata": {},
   "outputs": [
    {
     "name": "stdout",
     "output_type": "stream",
     "text": [
      "{'b': 400, 'a': 400, 'd': 400, 'c': 300}\n"
     ]
    }
   ],
   "source": [
    "d1 ={'a': 100, 'b': 200, 'c': 300}\n",
    "d2 ={'a': 300, 'b': 200, 'd': 400}\n",
    "\n",
    "# using dictionary comprehension\n",
    "combined_dict = {key: d1.get(key, 0) + d2.get(key, 0)for key in set(d1)| set(d2)}\n",
    "\n",
    "print(combined_dict) "
   ]
  },
  {
   "cell_type": "code",
   "execution_count": 13,
   "id": "cf36eca3",
   "metadata": {},
   "outputs": [
    {
     "name": "stdout",
     "output_type": "stream",
     "text": [
      "Enter a number: 8\n",
      "{1: 1, 2: 4, 3: 9, 4: 16, 5: 25, 6: 36, 7: 49, 8: 64}\n"
     ]
    }
   ],
   "source": [
    "n = int(input(\"Enter a number: \"))\n",
    "d = {}\n",
    "for i in range(1,n+1):\n",
    "    d[i] = i*i\n",
    "print(d)    "
   ]
  },
  {
   "cell_type": "code",
   "execution_count": 14,
   "id": "608e3147",
   "metadata": {},
   "outputs": [
    {
     "name": "stdout",
     "output_type": "stream",
     "text": [
      "[('item3', '24.5'), ('item2', '15.10'), ('item1', '12.20')]\n"
     ]
    }
   ],
   "source": [
    "lst = [('item1','12.20'),('item2','15.10'),('item3','24.5')]\n",
    "sorted_lst = sorted(lst, key=lambda x:\n",
    "                   float(x[1]), reverse=True)\n",
    "print(sorted_lst)"
   ]
  },
  {
   "cell_type": "code",
   "execution_count": 31,
   "id": "ad71df2b",
   "metadata": {},
   "outputs": [
    {
     "name": "stdout",
     "output_type": "stream",
     "text": [
      "{0, 1, 2, 3, 4}\n"
     ]
    }
   ],
   "source": [
    "# Creating a set\n",
    "my_set = {0, 1, 2, 3, 4}\n",
    "print(my_set)"
   ]
  },
  {
   "cell_type": "code",
   "execution_count": 32,
   "id": "efdc1676",
   "metadata": {},
   "outputs": [
    {
     "name": "stdout",
     "output_type": "stream",
     "text": [
      "0\n",
      "1\n",
      "2\n",
      "3\n",
      "4\n"
     ]
    }
   ],
   "source": [
    "# Iterating over a set \n",
    "for item in my_set:\n",
    "    print(item)"
   ]
  },
  {
   "cell_type": "code",
   "execution_count": 33,
   "id": "bfaaff65",
   "metadata": {},
   "outputs": [
    {
     "name": "stdout",
     "output_type": "stream",
     "text": [
      "{0, 1, 2, 3, 4, 5}\n"
     ]
    }
   ],
   "source": [
    "# Adding items from a set\n",
    "my_set.add(5)\n",
    "print(my_set)"
   ]
  },
  {
   "cell_type": "code",
   "execution_count": 35,
   "id": "843b498b",
   "metadata": {},
   "outputs": [
    {
     "name": "stdout",
     "output_type": "stream",
     "text": [
      "{0, 1, 3, 4, 5}\n"
     ]
    }
   ],
   "source": [
    "# Removing items from a set\n",
    "my_set.remove(2)\n",
    "print(my_set)"
   ]
  },
  {
   "cell_type": "code",
   "execution_count": null,
   "id": "41e6bf28",
   "metadata": {},
   "outputs": [],
   "source": []
  }
 ],
 "metadata": {
  "kernelspec": {
   "display_name": "Python 3 (ipykernel)",
   "language": "python",
   "name": "python3"
  },
  "language_info": {
   "codemirror_mode": {
    "name": "ipython",
    "version": 3
   },
   "file_extension": ".py",
   "mimetype": "text/x-python",
   "name": "python",
   "nbconvert_exporter": "python",
   "pygments_lexer": "ipython3",
   "version": "3.10.9"
  }
 },
 "nbformat": 4,
 "nbformat_minor": 5
}
